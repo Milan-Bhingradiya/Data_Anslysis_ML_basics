{
 "cells": [
  {
   "cell_type": "markdown",
   "id": "5bfc2ac7-c869-47b4-be88-edbfdb7ab547",
   "metadata": {},
   "source": [
    "### Steps\n",
    "\n",
    "### 0. Preprocess + EDA + Feature Selection\n",
    "### 1. Extract input and output cols\n",
    "### 2. Scale the values\n",
    "### 3. Train test split\n",
    "### 4. Train the model\n",
    "### 5. Evaluate the model/model selection\n",
    "### 6. Deploy the model"
   ]
  },
  {
   "cell_type": "code",
   "execution_count": 141,
   "id": "9a9a9be3-0310-4b9b-9f5b-829f983d6b95",
   "metadata": {},
   "outputs": [],
   "source": [
    "import numpy as np"
   ]
  },
  {
   "cell_type": "code",
   "execution_count": 8,
   "id": "ff43f42c-9d0a-4c41-89c6-758dc13d585d",
   "metadata": {},
   "outputs": [],
   "source": [
    "import pandas as pd"
   ]
  },
  {
   "cell_type": "code",
   "execution_count": 23,
   "id": "bc19a2ca-34c2-470b-853d-78b9b8f64d61",
   "metadata": {},
   "outputs": [],
   "source": [
    "df=pd.read_csv('placement.csv')"
   ]
  },
  {
   "cell_type": "code",
   "execution_count": 24,
   "id": "da12331f-fd3c-426d-8ea3-0daf744431d6",
   "metadata": {},
   "outputs": [
    {
     "data": {
      "text/html": [
       "<div>\n",
       "<style scoped>\n",
       "    .dataframe tbody tr th:only-of-type {\n",
       "        vertical-align: middle;\n",
       "    }\n",
       "\n",
       "    .dataframe tbody tr th {\n",
       "        vertical-align: top;\n",
       "    }\n",
       "\n",
       "    .dataframe thead th {\n",
       "        text-align: right;\n",
       "    }\n",
       "</style>\n",
       "<table border=\"1\" class=\"dataframe\">\n",
       "  <thead>\n",
       "    <tr style=\"text-align: right;\">\n",
       "      <th></th>\n",
       "      <th>Unnamed: 0</th>\n",
       "      <th>cgpa</th>\n",
       "      <th>iq</th>\n",
       "      <th>placement</th>\n",
       "    </tr>\n",
       "  </thead>\n",
       "  <tbody>\n",
       "    <tr>\n",
       "      <th>0</th>\n",
       "      <td>0</td>\n",
       "      <td>6.8</td>\n",
       "      <td>123.0</td>\n",
       "      <td>1</td>\n",
       "    </tr>\n",
       "    <tr>\n",
       "      <th>1</th>\n",
       "      <td>1</td>\n",
       "      <td>5.9</td>\n",
       "      <td>106.0</td>\n",
       "      <td>0</td>\n",
       "    </tr>\n",
       "    <tr>\n",
       "      <th>2</th>\n",
       "      <td>2</td>\n",
       "      <td>5.3</td>\n",
       "      <td>121.0</td>\n",
       "      <td>0</td>\n",
       "    </tr>\n",
       "    <tr>\n",
       "      <th>3</th>\n",
       "      <td>3</td>\n",
       "      <td>7.4</td>\n",
       "      <td>132.0</td>\n",
       "      <td>1</td>\n",
       "    </tr>\n",
       "    <tr>\n",
       "      <th>4</th>\n",
       "      <td>4</td>\n",
       "      <td>5.8</td>\n",
       "      <td>142.0</td>\n",
       "      <td>0</td>\n",
       "    </tr>\n",
       "  </tbody>\n",
       "</table>\n",
       "</div>"
      ],
      "text/plain": [
       "   Unnamed: 0  cgpa     iq  placement\n",
       "0           0   6.8  123.0          1\n",
       "1           1   5.9  106.0          0\n",
       "2           2   5.3  121.0          0\n",
       "3           3   7.4  132.0          1\n",
       "4           4   5.8  142.0          0"
      ]
     },
     "execution_count": 24,
     "metadata": {},
     "output_type": "execute_result"
    }
   ],
   "source": [
    "df.head()"
   ]
  },
  {
   "cell_type": "code",
   "execution_count": 25,
   "id": "86b5bf08-8d9d-46f0-9632-87952c36623f",
   "metadata": {},
   "outputs": [],
   "source": [
    "# unnamed is not usefull so remove\n",
    "df=df.iloc[:,1:]"
   ]
  },
  {
   "cell_type": "code",
   "execution_count": 26,
   "id": "e3738992-f06d-481c-ae68-c4cdca6ce72e",
   "metadata": {},
   "outputs": [
    {
     "data": {
      "text/html": [
       "<div>\n",
       "<style scoped>\n",
       "    .dataframe tbody tr th:only-of-type {\n",
       "        vertical-align: middle;\n",
       "    }\n",
       "\n",
       "    .dataframe tbody tr th {\n",
       "        vertical-align: top;\n",
       "    }\n",
       "\n",
       "    .dataframe thead th {\n",
       "        text-align: right;\n",
       "    }\n",
       "</style>\n",
       "<table border=\"1\" class=\"dataframe\">\n",
       "  <thead>\n",
       "    <tr style=\"text-align: right;\">\n",
       "      <th></th>\n",
       "      <th>cgpa</th>\n",
       "      <th>iq</th>\n",
       "      <th>placement</th>\n",
       "    </tr>\n",
       "  </thead>\n",
       "  <tbody>\n",
       "    <tr>\n",
       "      <th>0</th>\n",
       "      <td>6.8</td>\n",
       "      <td>123.0</td>\n",
       "      <td>1</td>\n",
       "    </tr>\n",
       "    <tr>\n",
       "      <th>1</th>\n",
       "      <td>5.9</td>\n",
       "      <td>106.0</td>\n",
       "      <td>0</td>\n",
       "    </tr>\n",
       "    <tr>\n",
       "      <th>2</th>\n",
       "      <td>5.3</td>\n",
       "      <td>121.0</td>\n",
       "      <td>0</td>\n",
       "    </tr>\n",
       "    <tr>\n",
       "      <th>3</th>\n",
       "      <td>7.4</td>\n",
       "      <td>132.0</td>\n",
       "      <td>1</td>\n",
       "    </tr>\n",
       "    <tr>\n",
       "      <th>4</th>\n",
       "      <td>5.8</td>\n",
       "      <td>142.0</td>\n",
       "      <td>0</td>\n",
       "    </tr>\n",
       "  </tbody>\n",
       "</table>\n",
       "</div>"
      ],
      "text/plain": [
       "   cgpa     iq  placement\n",
       "0   6.8  123.0          1\n",
       "1   5.9  106.0          0\n",
       "2   5.3  121.0          0\n",
       "3   7.4  132.0          1\n",
       "4   5.8  142.0          0"
      ]
     },
     "execution_count": 26,
     "metadata": {},
     "output_type": "execute_result"
    }
   ],
   "source": [
    "df.head()"
   ]
  },
  {
   "cell_type": "code",
   "execution_count": 28,
   "id": "53bb028d-690a-4e79-9889-dda61ca0b960",
   "metadata": {},
   "outputs": [
    {
     "data": {
      "text/plain": [
       "(100, 3)"
      ]
     },
     "execution_count": 28,
     "metadata": {},
     "output_type": "execute_result"
    }
   ],
   "source": [
    "df.shape"
   ]
  },
  {
   "cell_type": "code",
   "execution_count": 29,
   "id": "aa1c3973-234b-4936-96b1-f9bbdab6d420",
   "metadata": {},
   "outputs": [],
   "source": [
    "#will perform steps\n",
    "#0 :\n",
    "\n"
   ]
  },
  {
   "cell_type": "code",
   "execution_count": 31,
   "id": "b41366cf-4652-493b-90f5-385c397e4911",
   "metadata": {},
   "outputs": [
    {
     "name": "stdout",
     "output_type": "stream",
     "text": [
      "<class 'pandas.core.frame.DataFrame'>\n",
      "RangeIndex: 100 entries, 0 to 99\n",
      "Data columns (total 3 columns):\n",
      " #   Column     Non-Null Count  Dtype  \n",
      "---  ------     --------------  -----  \n",
      " 0   cgpa       100 non-null    float64\n",
      " 1   iq         100 non-null    float64\n",
      " 2   placement  100 non-null    int64  \n",
      "dtypes: float64(2), int64(1)\n",
      "memory usage: 2.5 KB\n"
     ]
    }
   ],
   "source": [
    "\n",
    "#  check data like missing value etc\n",
    "df.info()\n",
    "#not found any missing value.."
   ]
  },
  {
   "cell_type": "code",
   "execution_count": 37,
   "id": "ad797f0e-ab10-4b20-a95b-ef3cfb64c6d4",
   "metadata": {},
   "outputs": [
    {
     "data": {
      "text/plain": [
       "<matplotlib.collections.PathCollection at 0x17dbc9461e0>"
      ]
     },
     "execution_count": 37,
     "metadata": {},
     "output_type": "execute_result"
    },
    {
     "data": {
      "image/png": "[encoded data removed]",
      "text/plain": [
       "<Figure size 640x480 with 1 Axes>"
      ]
     },
     "metadata": {},
     "output_type": "display_data"
    }
   ],
   "source": [
    "# for eda nothing here to do so just visulize data\n",
    "import matplotlib.pyplot as plt\n",
    "\n",
    "plt.scatter(df['cgpa'],df['iq'],c=df['placement'])"
   ]
  },
  {
   "cell_type": "code",
   "execution_count": null,
   "id": "020a269d-f3c3-4e13-92fa-8ad86fce2ee8",
   "metadata": {},
   "outputs": [],
   "source": []
  },
  {
   "cell_type": "code",
   "execution_count": 38,
   "id": "7ebd9bd1-eb6e-4a62-8519-602f2a88718a",
   "metadata": {},
   "outputs": [],
   "source": [
    "#extact input output varible now (input and output alag karvu....)"
   ]
  },
  {
   "cell_type": "code",
   "execution_count": 52,
   "id": "bd028257-357d-42e2-b9d0-34f06aaf9705",
   "metadata": {},
   "outputs": [],
   "source": [
    "x=df.iloc[:,0:2]"
   ]
  },
  {
   "cell_type": "code",
   "execution_count": 62,
   "id": "f7ce286d-af37-4637-9463-e26e0dd4c964",
   "metadata": {},
   "outputs": [],
   "source": [
    "y=df.iloc[:,2:3]"
   ]
  },
  {
   "cell_type": "code",
   "execution_count": 63,
   "id": "d51f8913-a39e-4ad7-a733-d0889f7f3862",
   "metadata": {},
   "outputs": [
    {
     "data": {
      "text/plain": [
       "(    cgpa     iq\n",
       " 0    6.8  123.0\n",
       " 1    5.9  106.0\n",
       " 2    5.3  121.0\n",
       " 3    7.4  132.0\n",
       " 4    5.8  142.0\n",
       " ..   ...    ...\n",
       " 95   4.3  200.0\n",
       " 96   4.4   42.0\n",
       " 97   6.7  182.0\n",
       " 98   6.3  103.0\n",
       " 99   6.2  113.0\n",
       " \n",
       " [100 rows x 2 columns],\n",
       "     placement\n",
       " 0           1\n",
       " 1           0\n",
       " 2           0\n",
       " 3           1\n",
       " 4           0\n",
       " ..        ...\n",
       " 95          0\n",
       " 96          0\n",
       " 97          1\n",
       " 98          1\n",
       " 99          1\n",
       " \n",
       " [100 rows x 1 columns])"
      ]
     },
     "execution_count": 63,
     "metadata": {},
     "output_type": "execute_result"
    }
   ],
   "source": [
    "x,y"
   ]
  },
  {
   "cell_type": "code",
   "execution_count": null,
   "id": "bdb6cbae-87ca-41d7-8850-e78895743441",
   "metadata": {},
   "outputs": [],
   "source": []
  },
  {
   "cell_type": "code",
   "execution_count": 64,
   "id": "6e076a01-b11b-49ab-a481-a08f38f45d18",
   "metadata": {},
   "outputs": [],
   "source": [
    "#now do train test split withour scal value , then will do after scal value check it will help full or not\n"
   ]
  },
  {
   "cell_type": "code",
   "execution_count": 71,
   "id": "8080a810-4be0-47c2-8b9b-97d69d966ecd",
   "metadata": {},
   "outputs": [],
   "source": [
    " from sklearn.model_selection import train_test_split"
   ]
  },
  {
   "cell_type": "code",
   "execution_count": 76,
   "id": "35f1d8ee-1385-48c4-a3b1-2febeed0fe3f",
   "metadata": {},
   "outputs": [],
   "source": [
    "x_train,x_test,y_train,y_test=train_test_split(x,y,test_size=0.2)"
   ]
  },
  {
   "cell_type": "code",
   "execution_count": 92,
   "id": "37fc5f57-3783-44ab-bf91-61148171c4d8",
   "metadata": {},
   "outputs": [
    {
     "data": {
      "text/plain": [
       "(array([[-0.15977995,  0.43679647],\n",
       "        [ 0.43278146, -0.85282263],\n",
       "        [ 1.19464612,  0.1887928 ],\n",
       "        [-1.68350928, -1.22482814],\n",
       "        [-1.76816091, -0.38161565],\n",
       "        [-0.07512832, -0.45601675],\n",
       "        [ 0.8560396 , -1.49763218],\n",
       "        [ 1.53325264, -0.25761382],\n",
       "        [-1.17559951,  0.53599794],\n",
       "        [ 0.8560396 , -0.30721455],\n",
       "        [ 0.8560396 ,  0.36239537],\n",
       "        [ 0.94069123,  0.65999978],\n",
       "        [-0.83699299, -0.15841235],\n",
       "        [-2.10676743,  2.6936299 ],\n",
       "        [-0.83699299, -1.52243255],\n",
       "        [-0.66768973, -0.35681529],\n",
       "        [ 1.10999449, -0.9520241 ],\n",
       "        [ 0.2634782 ,  0.08959133],\n",
       "        [ 0.77138797,  0.337595  ],\n",
       "        [-0.92164462,  0.65999978],\n",
       "        [-0.49838647, -0.43121639],\n",
       "        [-0.75234136,  1.28000896],\n",
       "        [ 0.17882657, -0.28241418],\n",
       "        [ 0.09417494, -0.53041786],\n",
       "        [-1.00629625,  1.10640639],\n",
       "        [ 0.60208472,  1.42881116],\n",
       "        [-0.75234136, -1.44803145],\n",
       "        [ 0.09417494, -1.07602594],\n",
       "        [ 0.77138797, -0.70402043],\n",
       "        [-2.27607069,  1.45361153],\n",
       "        [-0.49838647, -0.25761382],\n",
       "        [-0.24443158,  1.10640639],\n",
       "        [ 0.43278146,  0.13919206],\n",
       "        [-0.66768973,  2.47042659],\n",
       "        [ 1.27929775,  0.13919206],\n",
       "        [-1.00629625,  0.4119961 ],\n",
       "        [-0.24443158,  0.1887928 ],\n",
       "        [-0.66768973, -0.85282263],\n",
       "        [-1.68350928, -0.60481896],\n",
       "        [-1.34490276,  0.61039904],\n",
       "        [ 0.09417494, -1.47283182],\n",
       "        [-1.09094788, -0.92722373],\n",
       "        [-0.92164462, -0.10881161],\n",
       "        [-1.09094788, -0.08401124],\n",
       "        [ 0.8560396 ,  1.85041741],\n",
       "        [ 0.68673634, -0.85282263],\n",
       "        [-0.92164462,  0.75920125],\n",
       "        [-0.49838647,  0.36239537],\n",
       "        [-0.15977995,  1.03200529],\n",
       "        [-1.00629625, -0.30721455],\n",
       "        [ 0.00952331, -1.96883916],\n",
       "        [-0.92164462,  1.77601631],\n",
       "        [ 0.43278146,  0.88320308],\n",
       "        [ 1.27929775, -1.57203329],\n",
       "        [ 0.94069123, -1.89443806],\n",
       "        [ 0.2634782 ,  0.06479096],\n",
       "        [-1.42955439,  1.87521778],\n",
       "        [ 0.09417494,  0.1887928 ],\n",
       "        [ 1.36394938, -0.877623  ],\n",
       "        [ 1.10999449, -0.20801308],\n",
       "        [-1.09094788, -1.79523659],\n",
       "        [ 0.68673634, -0.03441051],\n",
       "        [ 1.78720753,  1.03200529],\n",
       "        [ 1.78720753,  0.61039904],\n",
       "        [-0.24443158,  0.46159684],\n",
       "        [ 0.77138797,  0.36239537],\n",
       "        [ 0.34812983,  0.4119961 ],\n",
       "        [ 0.09417494,  0.78400161],\n",
       "        [ 0.68673634,  0.4119961 ],\n",
       "        [ 0.00952331,  0.61039904],\n",
       "        [ 2.12581405, -0.10881161],\n",
       "        [ 0.68673634, -0.30721455],\n",
       "        [ 0.34812983, -0.20801308],\n",
       "        [-0.5830381 , -0.08401124],\n",
       "        [ 1.10999449, -1.84483733],\n",
       "        [ 1.95651079,  1.08160602],\n",
       "        [ 1.7025559 , -1.12562667],\n",
       "        [-0.24443158,  0.38719574],\n",
       "        [-0.49838647,  0.2631939 ],\n",
       "        [-0.92164462, -1.57203329]]),\n",
       " array([[ 0.43278146, -2.1672421 ],\n",
       "        [ 1.27929775,  0.83360235],\n",
       "        [ 1.36394938,  0.08959133],\n",
       "        [ 1.10999449,  0.31279463],\n",
       "        [ 0.51743309, -0.10881161],\n",
       "        [ 0.00952331, -0.00961014],\n",
       "        [ 0.00952331, -1.44803145],\n",
       "        [ 0.8560396 ,  1.25520859],\n",
       "        [-1.00629625,  0.95760418],\n",
       "        [-0.83699299, -0.82802226],\n",
       "        [-0.92164462,  0.23839353],\n",
       "        [-0.66768973,  0.1887928 ],\n",
       "        [ 0.51743309,  0.337595  ],\n",
       "        [-1.34490276, -2.04324026],\n",
       "        [ 0.2634782 , -0.53041786],\n",
       "        [ 0.00952331, -0.55521822],\n",
       "        [-0.75234136,  0.08959133],\n",
       "        [-0.5830381 , -0.25761382],\n",
       "        [ 0.60208472,  0.73440088],\n",
       "        [-0.66768973,  0.90800345]]),\n",
       "     placement\n",
       " 4           0\n",
       " 79          1\n",
       " 3           1\n",
       " 68          0\n",
       " 31          0\n",
       " ..        ...\n",
       " 53          1\n",
       " 58          1\n",
       " 36          0\n",
       " 49          0\n",
       " 73          0\n",
       " \n",
       " [80 rows x 1 columns],\n",
       "     placement\n",
       " 82          1\n",
       " 91          1\n",
       " 30          1\n",
       " 61          1\n",
       " 20          1\n",
       " 27          1\n",
       " 45          1\n",
       " 52          1\n",
       " 34          0\n",
       " 25          0\n",
       " 40          0\n",
       " 19          0\n",
       " 48          1\n",
       " 96          0\n",
       " 98          1\n",
       " 62          0\n",
       " 86          0\n",
       " 46          0\n",
       " 74          1\n",
       " 47          0)"
      ]
     },
     "execution_count": 92,
     "metadata": {},
     "output_type": "execute_result"
    }
   ],
   "source": [
    "x_train,x_test,y_train,y_test"
   ]
  },
  {
   "cell_type": "code",
   "execution_count": 78,
   "id": "1ead52ce-f48f-4791-8adb-67d04b5ecd80",
   "metadata": {},
   "outputs": [],
   "source": []
  },
  {
   "cell_type": "code",
   "execution_count": 81,
   "id": "070f70ac-3957-442c-89e5-597cdfb34ac6",
   "metadata": {},
   "outputs": [],
   "source": [
    "from sklearn.preprocessing import  StandardScaler"
   ]
  },
  {
   "cell_type": "code",
   "execution_count": 86,
   "id": "667f1f19-09eb-40bd-a0a2-b88a45011c19",
   "metadata": {},
   "outputs": [],
   "source": [
    "scaler=StandardScaler()"
   ]
  },
  {
   "cell_type": "code",
   "execution_count": 87,
   "id": "01d50bf2-0a01-49ae-b3bf-9f7637302b65",
   "metadata": {},
   "outputs": [],
   "source": [
    "x_train=scaler.fit_transform(x_train)"
   ]
  },
  {
   "cell_type": "code",
   "execution_count": 88,
   "id": "f5dae8c0-860e-4f19-9b9d-4795a6fd3d51",
   "metadata": {},
   "outputs": [
    {
     "data": {
      "text/plain": [
       "array([[-0.15977995,  0.43679647],\n",
       "       [ 0.43278146, -0.85282263],\n",
       "       [ 1.19464612,  0.1887928 ],\n",
       "       [-1.68350928, -1.22482814],\n",
       "       [-1.76816091, -0.38161565],\n",
       "       [-0.07512832, -0.45601675],\n",
       "       [ 0.8560396 , -1.49763218],\n",
       "       [ 1.53325264, -0.25761382],\n",
       "       [-1.17559951,  0.53599794],\n",
       "       [ 0.8560396 , -0.30721455],\n",
       "       [ 0.8560396 ,  0.36239537],\n",
       "       [ 0.94069123,  0.65999978],\n",
       "       [-0.83699299, -0.15841235],\n",
       "       [-2.10676743,  2.6936299 ],\n",
       "       [-0.83699299, -1.52243255],\n",
       "       [-0.66768973, -0.35681529],\n",
       "       [ 1.10999449, -0.9520241 ],\n",
       "       [ 0.2634782 ,  0.08959133],\n",
       "       [ 0.77138797,  0.337595  ],\n",
       "       [-0.92164462,  0.65999978],\n",
       "       [-0.49838647, -0.43121639],\n",
       "       [-0.75234136,  1.28000896],\n",
       "       [ 0.17882657, -0.28241418],\n",
       "       [ 0.09417494, -0.53041786],\n",
       "       [-1.00629625,  1.10640639],\n",
       "       [ 0.60208472,  1.42881116],\n",
       "       [-0.75234136, -1.44803145],\n",
       "       [ 0.09417494, -1.07602594],\n",
       "       [ 0.77138797, -0.70402043],\n",
       "       [-2.27607069,  1.45361153],\n",
       "       [-0.49838647, -0.25761382],\n",
       "       [-0.24443158,  1.10640639],\n",
       "       [ 0.43278146,  0.13919206],\n",
       "       [-0.66768973,  2.47042659],\n",
       "       [ 1.27929775,  0.13919206],\n",
       "       [-1.00629625,  0.4119961 ],\n",
       "       [-0.24443158,  0.1887928 ],\n",
       "       [-0.66768973, -0.85282263],\n",
       "       [-1.68350928, -0.60481896],\n",
       "       [-1.34490276,  0.61039904],\n",
       "       [ 0.09417494, -1.47283182],\n",
       "       [-1.09094788, -0.92722373],\n",
       "       [-0.92164462, -0.10881161],\n",
       "       [-1.09094788, -0.08401124],\n",
       "       [ 0.8560396 ,  1.85041741],\n",
       "       [ 0.68673634, -0.85282263],\n",
       "       [-0.92164462,  0.75920125],\n",
       "       [-0.49838647,  0.36239537],\n",
       "       [-0.15977995,  1.03200529],\n",
       "       [-1.00629625, -0.30721455],\n",
       "       [ 0.00952331, -1.96883916],\n",
       "       [-0.92164462,  1.77601631],\n",
       "       [ 0.43278146,  0.88320308],\n",
       "       [ 1.27929775, -1.57203329],\n",
       "       [ 0.94069123, -1.89443806],\n",
       "       [ 0.2634782 ,  0.06479096],\n",
       "       [-1.42955439,  1.87521778],\n",
       "       [ 0.09417494,  0.1887928 ],\n",
       "       [ 1.36394938, -0.877623  ],\n",
       "       [ 1.10999449, -0.20801308],\n",
       "       [-1.09094788, -1.79523659],\n",
       "       [ 0.68673634, -0.03441051],\n",
       "       [ 1.78720753,  1.03200529],\n",
       "       [ 1.78720753,  0.61039904],\n",
       "       [-0.24443158,  0.46159684],\n",
       "       [ 0.77138797,  0.36239537],\n",
       "       [ 0.34812983,  0.4119961 ],\n",
       "       [ 0.09417494,  0.78400161],\n",
       "       [ 0.68673634,  0.4119961 ],\n",
       "       [ 0.00952331,  0.61039904],\n",
       "       [ 2.12581405, -0.10881161],\n",
       "       [ 0.68673634, -0.30721455],\n",
       "       [ 0.34812983, -0.20801308],\n",
       "       [-0.5830381 , -0.08401124],\n",
       "       [ 1.10999449, -1.84483733],\n",
       "       [ 1.95651079,  1.08160602],\n",
       "       [ 1.7025559 , -1.12562667],\n",
       "       [-0.24443158,  0.38719574],\n",
       "       [-0.49838647,  0.2631939 ],\n",
       "       [-0.92164462, -1.57203329]])"
      ]
     },
     "execution_count": 88,
     "metadata": {},
     "output_type": "execute_result"
    }
   ],
   "source": [
    "x_train"
   ]
  },
  {
   "cell_type": "code",
   "execution_count": 91,
   "id": "ba861253-42a0-444e-aac1-35620eb50b48",
   "metadata": {},
   "outputs": [],
   "source": [
    "x_test=scaler.transform(x_test)"
   ]
  },
  {
   "cell_type": "code",
   "execution_count": 94,
   "id": "287e96c0-1393-41cf-b511-4efc826f7acf",
   "metadata": {},
   "outputs": [],
   "source": [
    "from sklearn.linear_model import LogisticRegression"
   ]
  },
  {
   "cell_type": "code",
   "execution_count": 95,
   "id": "37413e5f-b448-4319-9a7e-56344d853b33",
   "metadata": {},
   "outputs": [],
   "source": [
    "modelobj=LogisticRegression()"
   ]
  },
  {
   "cell_type": "code",
   "execution_count": 99,
   "id": "7c3e3639-8083-4437-b3c3-00289a03d87a",
   "metadata": {},
   "outputs": [
    {
     "name": "stderr",
     "output_type": "stream",
     "text": [
      "C:\\Python312\\Lib\\site-packages\\sklearn\\utils\\validation.py:1339: DataConversionWarning: A column-vector y was passed when a 1d array was expected. Please change the shape of y to (n_samples, ), for example using ravel().\n",
      "  y = column_or_1d(y, warn=True)\n"
     ]
    },
    {
     "data": {
      "text/html": [
       "<style>#sk-container-id-2 {\n",
       "  /* Definition of color scheme common for light and dark mode */\n",
       "  --sklearn-color-text: black;\n",
       "  --sklearn-color-line: gray;\n",
       "  /* Definition of color scheme for unfitted estimators */\n",
       "  --sklearn-color-unfitted-level-0: #fff5e6;\n",
       "  --sklearn-color-unfitted-level-1: #f6e4d2;\n",
       "  --sklearn-color-unfitted-level-2: #ffe0b3;\n",
       "  --sklearn-color-unfitted-level-3: chocolate;\n",
       "  /* Definition of color scheme for fitted estimators */\n",
       "  --sklearn-color-fitted-level-0: #f0f8ff;\n",
       "  --sklearn-color-fitted-level-1: #d4ebff;\n",
       "  --sklearn-color-fitted-level-2: #b3dbfd;\n",
       "  --sklearn-color-fitted-level-3: cornflowerblue;\n",
       "\n",
       "  /* Specific color for light theme */\n",
       "  --sklearn-color-text-on-default-background: var(--sg-text-color, var(--theme-code-foreground, var(--jp-content-font-color1, black)));\n",
       "  --sklearn-color-background: var(--sg-background-color, var(--theme-background, var(--jp-layout-color0, white)));\n",
       "  --sklearn-color-border-box: var(--sg-text-color, var(--theme-code-foreground, var(--jp-content-font-color1, black)));\n",
       "  --sklearn-color-icon: #696969;\n",
       "\n",
       "  @media (prefers-color-scheme: dark) {\n",
       "    /* Redefinition of color scheme for dark theme */\n",
       "    --sklearn-color-text-on-default-background: var(--sg-text-color, var(--theme-code-foreground, var(--jp-content-font-color1, white)));\n",
       "    --sklearn-color-background: var(--sg-background-color, var(--theme-background, var(--jp-layout-color0, #111)));\n",
       "    --sklearn-color-border-box: var(--sg-text-color, var(--theme-code-foreground, var(--jp-content-font-color1, white)));\n",
       "    --sklearn-color-icon: #878787;\n",
       "  }\n",
       "}\n",
       "\n",
       "#sk-container-id-2 {\n",
       "  color: var(--sklearn-color-text);\n",
       "}\n",
       "\n",
       "#sk-container-id-2 pre {\n",
       "  padding: 0;\n",
       "}\n",
       "\n",
       "#sk-container-id-2 input.sk-hidden--visually {\n",
       "  border: 0;\n",
       "  clip: rect(1px 1px 1px 1px);\n",
       "  clip: rect(1px, 1px, 1px, 1px);\n",
       "  height: 1px;\n",
       "  margin: -1px;\n",
       "  overflow: hidden;\n",
       "  padding: 0;\n",
       "  position: absolute;\n",
       "  width: 1px;\n",
       "}\n",
       "\n",
       "#sk-container-id-2 div.sk-dashed-wrapped {\n",
       "  border: 1px dashed var(--sklearn-color-line);\n",
       "  margin: 0 0.4em 0.5em 0.4em;\n",
       "  box-sizing: border-box;\n",
       "  padding-bottom: 0.4em;\n",
       "  background-color: var(--sklearn-color-background);\n",
       "}\n",
       "\n",
       "#sk-container-id-2 div.sk-container {\n",
       "  /* jupyter's `normalize.less` sets `[hidden] { display: none; }`\n",
       "     but bootstrap.min.css set `[hidden] { display: none !important; }`\n",
       "     so we also need the `!important` here to be able to override the\n",
       "     default hidden behavior on the sphinx rendered scikit-learn.org.\n",
       "     See: https://github.com/scikit-learn/scikit-learn/issues/21755 */\n",
       "  display: inline-block !important;\n",
       "  position: relative;\n",
       "}\n",
       "\n",
       "#sk-container-id-2 div.sk-text-repr-fallback {\n",
       "  display: none;\n",
       "}\n",
       "\n",
       "div.sk-parallel-item,\n",
       "div.sk-serial,\n",
       "div.sk-item {\n",
       "  /* draw centered vertical line to link estimators */\n",
       "  background-image: linear-gradient(var(--sklearn-color-text-on-default-background), var(--sklearn-color-text-on-default-background));\n",
       "  background-size: 2px 100%;\n",
       "  background-repeat: no-repeat;\n",
       "  background-position: center center;\n",
       "}\n",
       "\n",
       "/* Parallel-specific style estimator block */\n",
       "\n",
       "#sk-container-id-2 div.sk-parallel-item::after {\n",
       "  content: \"\";\n",
       "  width: 100%;\n",
       "  border-bottom: 2px solid var(--sklearn-color-text-on-default-background);\n",
       "  flex-grow: 1;\n",
       "}\n",
       "\n",
       "#sk-container-id-2 div.sk-parallel {\n",
       "  display: flex;\n",
       "  align-items: stretch;\n",
       "  justify-content: center;\n",
       "  background-color: var(--sklearn-color-background);\n",
       "  position: relative;\n",
       "}\n",
       "\n",
       "#sk-container-id-2 div.sk-parallel-item {\n",
       "  display: flex;\n",
       "  flex-direction: column;\n",
       "}\n",
       "\n",
       "#sk-container-id-2 div.sk-parallel-item:first-child::after {\n",
       "  align-self: flex-end;\n",
       "  width: 50%;\n",
       "}\n",
       "\n",
       "#sk-container-id-2 div.sk-parallel-item:last-child::after {\n",
       "  align-self: flex-start;\n",
       "  width: 50%;\n",
       "}\n",
       "\n",
       "#sk-container-id-2 div.sk-parallel-item:only-child::after {\n",
       "  width: 0;\n",
       "}\n",
       "\n",
       "/* Serial-specific style estimator block */\n",
       "\n",
       "#sk-container-id-2 div.sk-serial {\n",
       "  display: flex;\n",
       "  flex-direction: column;\n",
       "  align-items: center;\n",
       "  background-color: var(--sklearn-color-background);\n",
       "  padding-right: 1em;\n",
       "  padding-left: 1em;\n",
       "}\n",
       "\n",
       "\n",
       "/* Toggleable style: style used for estimator/Pipeline/ColumnTransformer box that is\n",
       "clickable and can be expanded/collapsed.\n",
       "- Pipeline and ColumnTransformer use this feature and define the default style\n",
       "- Estimators will overwrite some part of the style using the `sk-estimator` class\n",
       "*/\n",
       "\n",
       "/* Pipeline and ColumnTransformer style (default) */\n",
       "\n",
       "#sk-container-id-2 div.sk-toggleable {\n",
       "  /* Default theme specific background. It is overwritten whether we have a\n",
       "  specific estimator or a Pipeline/ColumnTransformer */\n",
       "  background-color: var(--sklearn-color-background);\n",
       "}\n",
       "\n",
       "/* Toggleable label */\n",
       "#sk-container-id-2 label.sk-toggleable__label {\n",
       "  cursor: pointer;\n",
       "  display: block;\n",
       "  width: 100%;\n",
       "  margin-bottom: 0;\n",
       "  padding: 0.5em;\n",
       "  box-sizing: border-box;\n",
       "  text-align: center;\n",
       "}\n",
       "\n",
       "#sk-container-id-2 label.sk-toggleable__label-arrow:before {\n",
       "  /* Arrow on the left of the label */\n",
       "  content: \"▸\";\n",
       "  float: left;\n",
       "  margin-right: 0.25em;\n",
       "  color: var(--sklearn-color-icon);\n",
       "}\n",
       "\n",
       "#sk-container-id-2 label.sk-toggleable__label-arrow:hover:before {\n",
       "  color: var(--sklearn-color-text);\n",
       "}\n",
       "\n",
       "/* Toggleable content - dropdown */\n",
       "\n",
       "#sk-container-id-2 div.sk-toggleable__content {\n",
       "  max-height: 0;\n",
       "  max-width: 0;\n",
       "  overflow: hidden;\n",
       "  text-align: left;\n",
       "  /* unfitted */\n",
       "  background-color: var(--sklearn-color-unfitted-level-0);\n",
       "}\n",
       "\n",
       "#sk-container-id-2 div.sk-toggleable__content.fitted {\n",
       "  /* fitted */\n",
       "  background-color: var(--sklearn-color-fitted-level-0);\n",
       "}\n",
       "\n",
       "#sk-container-id-2 div.sk-toggleable__content pre {\n",
       "  margin: 0.2em;\n",
       "  border-radius: 0.25em;\n",
       "  color: var(--sklearn-color-text);\n",
       "  /* unfitted */\n",
       "  background-color: var(--sklearn-color-unfitted-level-0);\n",
       "}\n",
       "\n",
       "#sk-container-id-2 div.sk-toggleable__content.fitted pre {\n",
       "  /* unfitted */\n",
       "  background-color: var(--sklearn-color-fitted-level-0);\n",
       "}\n",
       "\n",
       "#sk-container-id-2 input.sk-toggleable__control:checked~div.sk-toggleable__content {\n",
       "  /* Expand drop-down */\n",
       "  max-height: 200px;\n",
       "  max-width: 100%;\n",
       "  overflow: auto;\n",
       "}\n",
       "\n",
       "#sk-container-id-2 input.sk-toggleable__control:checked~label.sk-toggleable__label-arrow:before {\n",
       "  content: \"▾\";\n",
       "}\n",
       "\n",
       "/* Pipeline/ColumnTransformer-specific style */\n",
       "\n",
       "#sk-container-id-2 div.sk-label input.sk-toggleable__control:checked~label.sk-toggleable__label {\n",
       "  color: var(--sklearn-color-text);\n",
       "  background-color: var(--sklearn-color-unfitted-level-2);\n",
       "}\n",
       "\n",
       "#sk-container-id-2 div.sk-label.fitted input.sk-toggleable__control:checked~label.sk-toggleable__label {\n",
       "  background-color: var(--sklearn-color-fitted-level-2);\n",
       "}\n",
       "\n",
       "/* Estimator-specific style */\n",
       "\n",
       "/* Colorize estimator box */\n",
       "#sk-container-id-2 div.sk-estimator input.sk-toggleable__control:checked~label.sk-toggleable__label {\n",
       "  /* unfitted */\n",
       "  background-color: var(--sklearn-color-unfitted-level-2);\n",
       "}\n",
       "\n",
       "#sk-container-id-2 div.sk-estimator.fitted input.sk-toggleable__control:checked~label.sk-toggleable__label {\n",
       "  /* fitted */\n",
       "  background-color: var(--sklearn-color-fitted-level-2);\n",
       "}\n",
       "\n",
       "#sk-container-id-2 div.sk-label label.sk-toggleable__label,\n",
       "#sk-container-id-2 div.sk-label label {\n",
       "  /* The background is the default theme color */\n",
       "  color: var(--sklearn-color-text-on-default-background);\n",
       "}\n",
       "\n",
       "/* On hover, darken the color of the background */\n",
       "#sk-container-id-2 div.sk-label:hover label.sk-toggleable__label {\n",
       "  color: var(--sklearn-color-text);\n",
       "  background-color: var(--sklearn-color-unfitted-level-2);\n",
       "}\n",
       "\n",
       "/* Label box, darken color on hover, fitted */\n",
       "#sk-container-id-2 div.sk-label.fitted:hover label.sk-toggleable__label.fitted {\n",
       "  color: var(--sklearn-color-text);\n",
       "  background-color: var(--sklearn-color-fitted-level-2);\n",
       "}\n",
       "\n",
       "/* Estimator label */\n",
       "\n",
       "#sk-container-id-2 div.sk-label label {\n",
       "  font-family: monospace;\n",
       "  font-weight: bold;\n",
       "  display: inline-block;\n",
       "  line-height: 1.2em;\n",
       "}\n",
       "\n",
       "#sk-container-id-2 div.sk-label-container {\n",
       "  text-align: center;\n",
       "}\n",
       "\n",
       "/* Estimator-specific */\n",
       "#sk-container-id-2 div.sk-estimator {\n",
       "  font-family: monospace;\n",
       "  border: 1px dotted var(--sklearn-color-border-box);\n",
       "  border-radius: 0.25em;\n",
       "  box-sizing: border-box;\n",
       "  margin-bottom: 0.5em;\n",
       "  /* unfitted */\n",
       "  background-color: var(--sklearn-color-unfitted-level-0);\n",
       "}\n",
       "\n",
       "#sk-container-id-2 div.sk-estimator.fitted {\n",
       "  /* fitted */\n",
       "  background-color: var(--sklearn-color-fitted-level-0);\n",
       "}\n",
       "\n",
       "/* on hover */\n",
       "#sk-container-id-2 div.sk-estimator:hover {\n",
       "  /* unfitted */\n",
       "  background-color: var(--sklearn-color-unfitted-level-2);\n",
       "}\n",
       "\n",
       "#sk-container-id-2 div.sk-estimator.fitted:hover {\n",
       "  /* fitted */\n",
       "  background-color: var(--sklearn-color-fitted-level-2);\n",
       "}\n",
       "\n",
       "/* Specification for estimator info (e.g. \"i\" and \"?\") */\n",
       "\n",
       "/* Common style for \"i\" and \"?\" */\n",
       "\n",
       ".sk-estimator-doc-link,\n",
       "a:link.sk-estimator-doc-link,\n",
       "a:visited.sk-estimator-doc-link {\n",
       "  float: right;\n",
       "  font-size: smaller;\n",
       "  line-height: 1em;\n",
       "  font-family: monospace;\n",
       "  background-color: var(--sklearn-color-background);\n",
       "  border-radius: 1em;\n",
       "  height: 1em;\n",
       "  width: 1em;\n",
       "  text-decoration: none !important;\n",
       "  margin-left: 1ex;\n",
       "  /* unfitted */\n",
       "  border: var(--sklearn-color-unfitted-level-1) 1pt solid;\n",
       "  color: var(--sklearn-color-unfitted-level-1);\n",
       "}\n",
       "\n",
       ".sk-estimator-doc-link.fitted,\n",
       "a:link.sk-estimator-doc-link.fitted,\n",
       "a:visited.sk-estimator-doc-link.fitted {\n",
       "  /* fitted */\n",
       "  border: var(--sklearn-color-fitted-level-1) 1pt solid;\n",
       "  color: var(--sklearn-color-fitted-level-1);\n",
       "}\n",
       "\n",
       "/* On hover */\n",
       "div.sk-estimator:hover .sk-estimator-doc-link:hover,\n",
       ".sk-estimator-doc-link:hover,\n",
       "div.sk-label-container:hover .sk-estimator-doc-link:hover,\n",
       ".sk-estimator-doc-link:hover {\n",
       "  /* unfitted */\n",
       "  background-color: var(--sklearn-color-unfitted-level-3);\n",
       "  color: var(--sklearn-color-background);\n",
       "  text-decoration: none;\n",
       "}\n",
       "\n",
       "div.sk-estimator.fitted:hover .sk-estimator-doc-link.fitted:hover,\n",
       ".sk-estimator-doc-link.fitted:hover,\n",
       "div.sk-label-container:hover .sk-estimator-doc-link.fitted:hover,\n",
       ".sk-estimator-doc-link.fitted:hover {\n",
       "  /* fitted */\n",
       "  background-color: var(--sklearn-color-fitted-level-3);\n",
       "  color: var(--sklearn-color-background);\n",
       "  text-decoration: none;\n",
       "}\n",
       "\n",
       "/* Span, style for the box shown on hovering the info icon */\n",
       ".sk-estimator-doc-link span {\n",
       "  display: none;\n",
       "  z-index: 9999;\n",
       "  position: relative;\n",
       "  font-weight: normal;\n",
       "  right: .2ex;\n",
       "  padding: .5ex;\n",
       "  margin: .5ex;\n",
       "  width: min-content;\n",
       "  min-width: 20ex;\n",
       "  max-width: 50ex;\n",
       "  color: var(--sklearn-color-text);\n",
       "  box-shadow: 2pt 2pt 4pt #999;\n",
       "  /* unfitted */\n",
       "  background: var(--sklearn-color-unfitted-level-0);\n",
       "  border: .5pt solid var(--sklearn-color-unfitted-level-3);\n",
       "}\n",
       "\n",
       ".sk-estimator-doc-link.fitted span {\n",
       "  /* fitted */\n",
       "  background: var(--sklearn-color-fitted-level-0);\n",
       "  border: var(--sklearn-color-fitted-level-3);\n",
       "}\n",
       "\n",
       ".sk-estimator-doc-link:hover span {\n",
       "  display: block;\n",
       "}\n",
       "\n",
       "/* \"?\"-specific style due to the `<a>` HTML tag */\n",
       "\n",
       "#sk-container-id-2 a.estimator_doc_link {\n",
       "  float: right;\n",
       "  font-size: 1rem;\n",
       "  line-height: 1em;\n",
       "  font-family: monospace;\n",
       "  background-color: var(--sklearn-color-background);\n",
       "  border-radius: 1rem;\n",
       "  height: 1rem;\n",
       "  width: 1rem;\n",
       "  text-decoration: none;\n",
       "  /* unfitted */\n",
       "  color: var(--sklearn-color-unfitted-level-1);\n",
       "  border: var(--sklearn-color-unfitted-level-1) 1pt solid;\n",
       "}\n",
       "\n",
       "#sk-container-id-2 a.estimator_doc_link.fitted {\n",
       "  /* fitted */\n",
       "  border: var(--sklearn-color-fitted-level-1) 1pt solid;\n",
       "  color: var(--sklearn-color-fitted-level-1);\n",
       "}\n",
       "\n",
       "/* On hover */\n",
       "#sk-container-id-2 a.estimator_doc_link:hover {\n",
       "  /* unfitted */\n",
       "  background-color: var(--sklearn-color-unfitted-level-3);\n",
       "  color: var(--sklearn-color-background);\n",
       "  text-decoration: none;\n",
       "}\n",
       "\n",
       "#sk-container-id-2 a.estimator_doc_link.fitted:hover {\n",
       "  /* fitted */\n",
       "  background-color: var(--sklearn-color-fitted-level-3);\n",
       "}\n",
       "</style><div id=\"sk-container-id-2\" class=\"sk-top-container\"><div class=\"sk-text-repr-fallback\"><pre>LogisticRegression()</pre><b>In a Jupyter environment, please rerun this cell to show the HTML representation or trust the notebook. <br />On GitHub, the HTML representation is unable to render, please try loading this page with nbviewer.org.</b></div><div class=\"sk-container\" hidden><div class=\"sk-item\"><div class=\"sk-estimator fitted sk-toggleable\"><input class=\"sk-toggleable__control sk-hidden--visually\" id=\"sk-estimator-id-2\" type=\"checkbox\" checked><label for=\"sk-estimator-id-2\" class=\"sk-toggleable__label fitted sk-toggleable__label-arrow fitted\">&nbsp;&nbsp;LogisticRegression<a class=\"sk-estimator-doc-link fitted\" rel=\"noreferrer\" target=\"_blank\" href=\"https://scikit-learn.org/1.5/modules/generated/sklearn.linear_model.LogisticRegression.html\">?<span>Documentation for LogisticRegression</span></a><span class=\"sk-estimator-doc-link fitted\">i<span>Fitted</span></span></label><div class=\"sk-toggleable__content fitted\"><pre>LogisticRegression()</pre></div> </div></div></div></div>"
      ],
      "text/plain": [
       "LogisticRegression()"
      ]
     },
     "execution_count": 99,
     "metadata": {},
     "output_type": "execute_result"
    }
   ],
   "source": [
    "modelobj.fit(x_train,y_train)"
   ]
  },
  {
   "cell_type": "code",
   "execution_count": 103,
   "id": "78b77113-c2e6-4dca-a76d-bb3043961d17",
   "metadata": {},
   "outputs": [],
   "source": [
    "y_pred=modelobj.predict(x_test)"
   ]
  },
  {
   "cell_type": "code",
   "execution_count": null,
   "id": "76c164fd-3d69-43c3-8559-6b892620b0bf",
   "metadata": {},
   "outputs": [],
   "source": []
  },
  {
   "cell_type": "code",
   "execution_count": 104,
   "id": "42013490-aad0-4a0a-b315-4d9ae00e65bf",
   "metadata": {},
   "outputs": [],
   "source": [
    "from sklearn.metrics import accuracy_score"
   ]
  },
  {
   "cell_type": "code",
   "execution_count": 107,
   "id": "863e2271-0e16-4a37-8823-10d57e14226a",
   "metadata": {},
   "outputs": [
    {
     "data": {
      "text/plain": [
       "0.9"
      ]
     },
     "execution_count": 107,
     "metadata": {},
     "output_type": "execute_result"
    }
   ],
   "source": [
    "accuracy_score(y_test,y_pred)"
   ]
  },
  {
   "cell_type": "code",
   "execution_count": 126,
   "id": "325727f8-de2a-4d93-9526-ab176e4b7055",
   "metadata": {},
   "outputs": [],
   "source": [
    "y_train2=y_train"
   ]
  },
  {
   "cell_type": "code",
   "execution_count": 134,
   "id": "fd6ae862-c71e-4100-a1a5-2fa6323b9835",
   "metadata": {},
   "outputs": [],
   "source": [
    "y_train=y_train.ravel()  # y 2d array to 1d array..."
   ]
  },
  {
   "cell_type": "code",
   "execution_count": 128,
   "id": "1d85f246-ef15-4767-af00-6d20d6c6f7a3",
   "metadata": {},
   "outputs": [],
   "source": [
    "# now we want to draw line that model use for give output we use library calld \"mlxtend\""
   ]
  },
  {
   "cell_type": "code",
   "execution_count": 129,
   "id": "4439be3a-0457-425f-8dc5-a151290c885e",
   "metadata": {},
   "outputs": [],
   "source": [
    "from mlxtend.plotting import plot_decision_regions"
   ]
  },
  {
   "cell_type": "code",
   "execution_count": 135,
   "id": "d73339fd-677f-4294-bd62-568d6ecea690",
   "metadata": {},
   "outputs": [
    {
     "data": {
      "text/plain": [
       "<Axes: >"
      ]
     },
     "execution_count": 135,
     "metadata": {},
     "output_type": "execute_result"
    },
    {
     "data": {
      "image/png": "[encoded data removed]",
      "text/plain": [
       "<Figure size 640x480 with 1 Axes>"
      ]
     },
     "metadata": {},
     "output_type": "display_data"
    }
   ],
   "source": [
    "plot_decision_regions(x_train,y_train,clf=modelobj,legend=2)"
   ]
  },
  {
   "cell_type": "code",
   "execution_count": null,
   "id": "575cf9f0-931d-4b56-a8ea-de260575948a",
   "metadata": {},
   "outputs": [],
   "source": []
  },
  {
   "cell_type": "code",
   "execution_count": 138,
   "id": "180d768c-c16c-4c30-8468-25349cf294bf",
   "metadata": {},
   "outputs": [],
   "source": [
    "#deploy model.. use library called pickle..\n",
    "\n",
    "import pickle"
   ]
  },
  {
   "cell_type": "code",
   "execution_count": 140,
   "id": "abd56936-f17a-460b-a515-ad83a9464257",
   "metadata": {},
   "outputs": [],
   "source": [
    "pickle.dump(modelobj,open('mymodel.pkl','wb')) #wb=write binary.."
   ]
  },
  {
   "cell_type": "code",
   "execution_count": null,
   "id": "eb7f3910-0db3-4e01-9131-b9a01ce8a353",
   "metadata": {},
   "outputs": [],
   "source": []
  }
 ],
 "metadata": {
  "kernelspec": {
   "display_name": "Python 3 (ipykernel)",
   "language": "python",
   "name": "python3"
  },
  "language_info": {
   "codemirror_mode": {
    "name": "ipython",
    "version": 3
   },
   "file_extension": ".py",
   "mimetype": "text/x-python",
   "name": "python",
   "nbconvert_exporter": "python",
   "pygments_lexer": "ipython3",
   "version": "3.12.4"
  }
 },
 "nbformat": 4,
 "nbformat_minor": 5
}
